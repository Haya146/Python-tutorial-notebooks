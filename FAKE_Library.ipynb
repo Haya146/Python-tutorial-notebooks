{
  "nbformat": 4,
  "nbformat_minor": 0,
  "metadata": {
    "colab": {
      "provenance": [],
      "authorship_tag": "ABX9TyPuN2Axec+FYfd6aWOTL3iS",
      "include_colab_link": true
    },
    "kernelspec": {
      "name": "python3",
      "display_name": "Python 3"
    },
    "language_info": {
      "name": "python"
    }
  },
  "cells": [
    {
      "cell_type": "markdown",
      "metadata": {
        "id": "view-in-github",
        "colab_type": "text"
      },
      "source": [
        "<a href=\"https://colab.research.google.com/github/Haya146/Python-tutorial-notebooks/blob/main/FAKE_Library.ipynb\" target=\"_parent\"><img src=\"https://colab.research.google.com/assets/colab-badge.svg\" alt=\"Open In Colab\"/></a>"
      ]
    },
    {
      "cell_type": "code",
      "source": [
        "!pip install Faker # Install the 'faker' library"
      ],
      "metadata": {
        "colab": {
          "base_uri": "https://localhost:8080/"
        },
        "id": "uJ_4DVLbwYGd",
        "outputId": "2396d10d-33f3-42b6-86bc-bfba7b90564f"
      },
      "execution_count": 2,
      "outputs": [
        {
          "output_type": "stream",
          "name": "stdout",
          "text": [
            "Collecting Faker\n",
            "  Downloading Faker-30.8.2-py3-none-any.whl.metadata (15 kB)\n",
            "Requirement already satisfied: python-dateutil>=2.4 in /usr/local/lib/python3.10/dist-packages (from Faker) (2.8.2)\n",
            "Requirement already satisfied: typing-extensions in /usr/local/lib/python3.10/dist-packages (from Faker) (4.12.2)\n",
            "Requirement already satisfied: six>=1.5 in /usr/local/lib/python3.10/dist-packages (from python-dateutil>=2.4->Faker) (1.16.0)\n",
            "Downloading Faker-30.8.2-py3-none-any.whl (1.8 MB)\n",
            "\u001b[2K   \u001b[90m━━━━━━━━━━━━━━━━━━━━━━━━━━━━━━━━━━━━━━━━\u001b[0m \u001b[32m1.8/1.8 MB\u001b[0m \u001b[31m33.2 MB/s\u001b[0m eta \u001b[36m0:00:00\u001b[0m\n",
            "\u001b[?25hInstalling collected packages: Faker\n",
            "Successfully installed Faker-30.8.2\n"
          ]
        }
      ]
    },
    {
      "cell_type": "code",
      "execution_count": 6,
      "metadata": {
        "colab": {
          "base_uri": "https://localhost:8080/"
        },
        "id": "CEvCY2F3v7c7",
        "outputId": "604c5789-c143-4f27-fb63-60598c84844b"
      },
      "outputs": [
        {
          "output_type": "stream",
          "name": "stdout",
          "text": [
            "Barbara Graham\n",
            "31346 Roberts Trail Apt. 125\n",
            "New Donnaview, AR 97062\n",
            "Its agree understand girl wall. Either side few agree.\n",
            "Certain information own prove movie color structure. War nice successful reach force before about.\n",
            "2024-02-22\n",
            "paulray@example.org\n",
            "22:04:17\n",
            "Bahamas\n",
            "Manningland\n",
            "Maine\n",
            "12467\n"
          ]
        }
      ],
      "source": [
        "from os import name\n",
        "from faker import Faker\n",
        "from random import randint\n",
        "\n",
        "fake = Faker()\n",
        "\n",
        "name= fake.name()\n",
        "address= fake.address()\n",
        "Country = fake.country()\n",
        "city = fake.city()\n",
        "state = fake.state()\n",
        "zipcode = fake.zipcode()\n",
        "text= fake.text()\n",
        "date= fake.date_of_birth()\n",
        "email= fake.email()\n",
        "time= fake.time()\n",
        "\n",
        "print(name)\n",
        "print(address)\n",
        "print(text)\n",
        "print(date)\n",
        "print(email)\n",
        "print(time)\n",
        "print(Country)\n",
        "print(city)\n",
        "print(state)\n",
        "print(zipcode)\n"
      ]
    },
    {
      "cell_type": "code",
      "source": [
        "--"
      ],
      "metadata": {
        "id": "ZUa1Hi7MwOQB"
      },
      "execution_count": null,
      "outputs": []
    }
  ]
}