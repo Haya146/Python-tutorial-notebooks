{
  "nbformat": 4,
  "nbformat_minor": 0,
  "metadata": {
    "colab": {
      "provenance": [],
      "authorship_tag": "ABX9TyNl9c1K8NY/uBLXlwGEm3GK",
      "include_colab_link": true
    },
    "kernelspec": {
      "name": "python3",
      "display_name": "Python 3"
    },
    "language_info": {
      "name": "python"
    }
  },
  "cells": [
    {
      "cell_type": "markdown",
      "metadata": {
        "id": "view-in-github",
        "colab_type": "text"
      },
      "source": [
        "<a href=\"https://colab.research.google.com/github/Haya146/Python-tutorial-notebooks/blob/main/python_programs.ipynb\" target=\"_parent\"><img src=\"https://colab.research.google.com/assets/colab-badge.svg\" alt=\"Open In Colab\"/></a>"
      ]
    },
    {
      "cell_type": "markdown",
      "source": [
        "## 1. Calculate the factorial of a number\n"
      ],
      "metadata": {
        "id": "jg1WPzKkKhDV"
      }
    },
    {
      "cell_type": "code",
      "source": [
        "def factorial(n):\n",
        "  if n ==0 :\n",
        "    return 1\n",
        "  else :\n",
        "    return n * factorial(n-1)\n",
        "\n",
        "result = factorial(5)\n",
        "print(result)"
      ],
      "metadata": {
        "colab": {
          "base_uri": "https://localhost:8080/"
        },
        "id": "0k4x0Gv5Kbj0",
        "outputId": "9051f426-9c8f-4bc8-c63d-3e6617c3df22"
      },
      "execution_count": 23,
      "outputs": [
        {
          "output_type": "stream",
          "name": "stdout",
          "text": [
            "120\n"
          ]
        }
      ]
    },
    {
      "cell_type": "markdown",
      "source": [
        "-------------------------------\n",
        "## 2. Find the maximum element in a list"
      ],
      "metadata": {
        "id": "UXLYcquLLRpA"
      }
    },
    {
      "cell_type": "code",
      "source": [
        "list = [2,10,4,8,79,5,1]\n",
        "maxx = list[0]\n",
        "for x in list:\n",
        "  if x > maxx :\n",
        "    maxx = x\n",
        "print(maxx)"
      ],
      "metadata": {
        "colab": {
          "base_uri": "https://localhost:8080/"
        },
        "id": "ndXLPo0wLCri",
        "outputId": "677ca28a-d363-4880-8f02-b3883fc6b099"
      },
      "execution_count": 24,
      "outputs": [
        {
          "output_type": "stream",
          "name": "stdout",
          "text": [
            "79\n"
          ]
        }
      ]
    },
    {
      "cell_type": "markdown",
      "source": [
        "---------------------------------------\n",
        "## 3. Count the freqency of elements in a list"
      ],
      "metadata": {
        "id": "ru-hmhMjMGyB"
      }
    },
    {
      "cell_type": "code",
      "source": [
        "from collections import Counter\n",
        "l = [1,2,3,2,1,3,4,2,1]\n",
        "def count_frequency(l):\n",
        "  frequency = Counter(l)\n",
        "  return frequency\n",
        "\n",
        "print(count_frequency(l))"
      ],
      "metadata": {
        "colab": {
          "base_uri": "https://localhost:8080/"
        },
        "id": "7SnmEiolLwjK",
        "outputId": "a465b67f-b01d-4419-a484-aa593cba2dd6"
      },
      "execution_count": 25,
      "outputs": [
        {
          "output_type": "stream",
          "name": "stdout",
          "text": [
            "Counter({1: 3, 2: 3, 3: 2, 4: 1})\n"
          ]
        }
      ]
    },
    {
      "cell_type": "markdown",
      "source": [
        "--------------------------------------\n",
        "## 4. Reverse a string"
      ],
      "metadata": {
        "id": "-w3JRYYSNLNh"
      }
    },
    {
      "cell_type": "code",
      "source": [
        "s = \"Hello, World!\"\n",
        "def reverse_string(s):\n",
        "   return s[::-1]\n",
        "\n",
        "print(reverse_string(s))"
      ],
      "metadata": {
        "colab": {
          "base_uri": "https://localhost:8080/"
        },
        "id": "Qx0s76F6NR0R",
        "outputId": "8c5db7a4-829d-44d3-f624-73e5b0f26660"
      },
      "execution_count": 26,
      "outputs": [
        {
          "output_type": "stream",
          "name": "stdout",
          "text": [
            "!dlroW ,olleH\n"
          ]
        }
      ]
    },
    {
      "cell_type": "markdown",
      "source": [
        "--------------------------------------\n",
        "## 5. Calculate the sum of all ecven numbers in a list."
      ],
      "metadata": {
        "id": "9QHNHKpDNvdx"
      }
    },
    {
      "cell_type": "code",
      "source": [
        "list = [1,2,3,4,5,6,7,8,9,10]\n",
        "\n",
        "def calc_even(list):\n",
        "  calc = 0\n",
        "  for n in list :\n",
        "    if n % 2 ==0  :\n",
        "      calc += n\n",
        "  return calc\n",
        "\n",
        "print(calc_even(list))\n"
      ],
      "metadata": {
        "colab": {
          "base_uri": "https://localhost:8080/"
        },
        "id": "hE-SUPppNicq",
        "outputId": "315067ea-b86d-4fed-866d-1eaadd6716c8"
      },
      "execution_count": 27,
      "outputs": [
        {
          "output_type": "stream",
          "name": "stdout",
          "text": [
            "30\n"
          ]
        }
      ]
    },
    {
      "cell_type": "markdown",
      "source": [
        "-----------------------------------------\n",
        "## 6. Determine if a number is prime"
      ],
      "metadata": {
        "id": "3_wIH1A1Od4p"
      }
    },
    {
      "cell_type": "code",
      "source": [
        "def is_prime(n):\n",
        "  if n<=1 :\n",
        "    return False\n",
        "  for i in range(2,int(n**0.5)+1):\n",
        "    if n%i ==0 :\n",
        "      return False\n",
        "  return True\n",
        "\n",
        "print(is_prime(7))\n",
        "print(is_prime(10))"
      ],
      "metadata": {
        "colab": {
          "base_uri": "https://localhost:8080/"
        },
        "id": "9saHr73SOUWT",
        "outputId": "2f3e08ca-0660-41ca-c361-932b8d8fe1fc"
      },
      "execution_count": 31,
      "outputs": [
        {
          "output_type": "stream",
          "name": "stdout",
          "text": [
            "True\n",
            "False\n"
          ]
        }
      ]
    },
    {
      "cell_type": "markdown",
      "source": [
        "--------------------------------------\n",
        "## 7. Find the intersection of two lists"
      ],
      "metadata": {
        "id": "uqZ7peUVP17u"
      }
    },
    {
      "cell_type": "code",
      "source": [
        "del(list)\n",
        "def find_intersections(listt1, listt2):\n",
        "    return list(set(listt1) & set(listt2))\n",
        "\n",
        "listt1 = [1, 2, 3, 4, 5]\n",
        "listt2 = [4, 5, 6, 7, 8]\n",
        "print(find_intersections(listt1, listt2))\n"
      ],
      "metadata": {
        "colab": {
          "base_uri": "https://localhost:8080/"
        },
        "id": "4EPWdRNSPFp5",
        "outputId": "005b3024-17dc-4cbf-94b7-62dd35d63bca"
      },
      "execution_count": 32,
      "outputs": [
        {
          "output_type": "stream",
          "name": "stdout",
          "text": [
            "[4, 5]\n"
          ]
        }
      ]
    },
    {
      "cell_type": "markdown",
      "source": [
        "-----------------------------------------\n",
        "## 8. Find the average of numbers in a list"
      ],
      "metadata": {
        "id": "MYTkEmSxSZfv"
      }
    },
    {
      "cell_type": "code",
      "source": [
        "def calc_avg(nums):\n",
        "  total = sum(nums)\n",
        "  avg = total / len(nums)\n",
        "  return avg\n",
        "\n",
        "nums = [10,20,30,40,50]\n",
        "print(calc_avg(nums))"
      ],
      "metadata": {
        "id": "YBqBY6MsQo5Z",
        "colab": {
          "base_uri": "https://localhost:8080/"
        },
        "outputId": "ff5af7fb-8c1a-4833-8f6c-08586a39fbf0"
      },
      "execution_count": 33,
      "outputs": [
        {
          "output_type": "stream",
          "name": "stdout",
          "text": [
            "30.0\n"
          ]
        }
      ]
    },
    {
      "cell_type": "markdown",
      "source": [
        "-----------------------------------\n",
        "## 9. Check if a number is a perfect square"
      ],
      "metadata": {
        "id": "ufH14VUaS1Fm"
      }
    },
    {
      "cell_type": "code",
      "source": [
        "def is_perfect_square(n):\n",
        "  return n>=0 and int(n**0.5)**2 ==n\n",
        "\n",
        "number1 = 16\n",
        "number2 = 17\n",
        "print(is_perfect_square(number1))\n",
        "print(is_perfect_square(number2))"
      ],
      "metadata": {
        "colab": {
          "base_uri": "https://localhost:8080/"
        },
        "id": "1AYWZuH7SzDj",
        "outputId": "584b70c8-687d-4354-e589-0093b492033a"
      },
      "execution_count": 34,
      "outputs": [
        {
          "output_type": "stream",
          "name": "stdout",
          "text": [
            "True\n",
            "False\n"
          ]
        }
      ]
    },
    {
      "cell_type": "code",
      "source": [],
      "metadata": {
        "id": "38mFpfhbTVlj"
      },
      "execution_count": null,
      "outputs": []
    },
    {
      "cell_type": "markdown",
      "source": [
        "----------------------------\n",
        "## 10. Remove duplicates rom a list."
      ],
      "metadata": {
        "id": "wokuU-YWTxOi"
      }
    },
    {
      "cell_type": "code",
      "source": [
        "def remove_duplicates(nums):\n",
        "  return list(set(nums))\n",
        "\n",
        "nums = [1,2,2,3,4,4,5,6,6]\n",
        "print(remove_duplicates(nums))"
      ],
      "metadata": {
        "colab": {
          "base_uri": "https://localhost:8080/"
        },
        "id": "ehCjBIguT7jh",
        "outputId": "b5558645-f68f-4223-a8c2-599dc7b135e5"
      },
      "execution_count": 35,
      "outputs": [
        {
          "output_type": "stream",
          "name": "stdout",
          "text": [
            "[1, 2, 3, 4, 5, 6]\n"
          ]
        }
      ]
    },
    {
      "cell_type": "code",
      "source": [],
      "metadata": {
        "id": "p3CwoSFfUbJ7"
      },
      "execution_count": null,
      "outputs": []
    }
  ]
}