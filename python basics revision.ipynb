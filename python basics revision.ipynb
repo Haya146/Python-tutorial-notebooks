{
  "cells": [
    {
      "cell_type": "markdown",
      "metadata": {
        "id": "view-in-github",
        "colab_type": "text"
      },
      "source": [
        "<a href=\"https://colab.research.google.com/github/Haya146/Python-tutorial-notebooks/blob/main/python%20basics%20revision.ipynb\" target=\"_parent\"><img src=\"https://colab.research.google.com/assets/colab-badge.svg\" alt=\"Open In Colab\"/></a>"
      ]
    },
    {
      "cell_type": "markdown",
      "source": [
        "## basics"
      ],
      "metadata": {
        "id": "esYa3D5jhNXP"
      },
      "id": "esYa3D5jhNXP"
    },
    {
      "cell_type": "code",
      "source": [
        "# Collections are assigned by reference\n",
        "a = [1,2,3] # a now references to the list   [1,2,3]\n",
        "b = a # b now references to what a references.\n",
        "a.append(4)\n",
        "print(b) # prints [1,2,3,4]"
      ],
      "metadata": {
        "id": "l2gbi24Ig1yM",
        "outputId": "1583a8cd-c2b0-463c-8ac5-f9e92cef1241",
        "colab": {
          "base_uri": "https://localhost:8080/"
        }
      },
      "id": "l2gbi24Ig1yM",
      "execution_count": null,
      "outputs": [
        {
          "output_type": "stream",
          "name": "stdout",
          "text": [
            "[1, 2, 3, 4]\n"
          ]
        }
      ]
    },
    {
      "cell_type": "code",
      "source": [
        "x = 3\n",
        "y = x\n",
        "y = 4\n",
        "print (x) # prints 3, as X is not affected"
      ],
      "metadata": {
        "colab": {
          "base_uri": "https://localhost:8080/"
        },
        "id": "Yme18qekhGg0",
        "outputId": "3dd4590e-f70e-4f50-a4f2-df187e36dce6"
      },
      "id": "Yme18qekhGg0",
      "execution_count": null,
      "outputs": [
        {
          "output_type": "stream",
          "name": "stdout",
          "text": [
            "3\n"
          ]
        }
      ]
    },
    {
      "cell_type": "code",
      "source": [
        "thisset = {\"Sally\", \"Sama\", \"Sara\"}\n",
        "print(thisset)\n",
        "print(\"Sally\" in thisset) #Prints Sally if it exists\n",
        " #Once a set is created, you cannot change its items, but you can add new items.\n",
        " #To add more than one item to a set use the update() method.\n",
        "thisset.add(\"Salma\")"
      ],
      "metadata": {
        "colab": {
          "base_uri": "https://localhost:8080/"
        },
        "id": "ENRFE6wwfHxq",
        "outputId": "16cc43e7-8ecb-4216-c74b-d56ca1ce785d"
      },
      "id": "ENRFE6wwfHxq",
      "execution_count": null,
      "outputs": [
        {
          "output_type": "stream",
          "name": "stdout",
          "text": [
            "{'Sama', 'Sara', 'Sally'}\n",
            "True\n"
          ]
        }
      ]
    },
    {
      "cell_type": "code",
      "execution_count": null,
      "id": "4a708566-0880-44c4-b6d8-3d3c02b9e881",
      "metadata": {
        "id": "4a708566-0880-44c4-b6d8-3d3c02b9e881",
        "outputId": "cb7672ad-549a-439f-a061-e1c1567b6195"
      },
      "outputs": [
        {
          "name": "stdin",
          "output_type": "stream",
          "text": [
            "please enter an integer:  1\n"
          ]
        },
        {
          "name": "stdout",
          "output_type": "stream",
          "text": [
            "Single\n"
          ]
        }
      ],
      "source": [
        "x= int(input(\"please enter an integer: \"))\n",
        "if x<0:\n",
        "    print('Negative changed to zero')\n",
        "elif x==0:\n",
        "    print('Zero')\n",
        "elif x==1:\n",
        "    print('Single')\n",
        "else:\n",
        "    print('More')"
      ]
    },
    {
      "cell_type": "code",
      "execution_count": null,
      "id": "1636fd66-e431-42b8-b226-04cb0bee6374",
      "metadata": {
        "id": "1636fd66-e431-42b8-b226-04cb0bee6374",
        "outputId": "88024302-fcb2-40a8-9450-df774fa3a6c9"
      },
      "outputs": [
        {
          "name": "stdout",
          "output_type": "stream",
          "text": [
            "smaller\n",
            "smaller\n"
          ]
        }
      ],
      "source": [
        "a,b = 4,5\n",
        "if a<b :\n",
        "    x= 'smaller'\n",
        "else:\n",
        "    x='bigger'\n",
        "\n",
        "print(x)\n",
        "\n",
        "x= 'smaller' if a<b else 'bigger'\n",
        "print(x)"
      ]
    },
    {
      "cell_type": "markdown",
      "id": "9feb89d1-ce1b-4e0d-a63c-d038ff148688",
      "metadata": {
        "id": "9feb89d1-ce1b-4e0d-a63c-d038ff148688"
      },
      "source": [
        "## For loop"
      ]
    },
    {
      "cell_type": "code",
      "execution_count": null,
      "id": "97b0b8ed-24a6-46e7-8e71-95b72ef40b32",
      "metadata": {
        "id": "97b0b8ed-24a6-46e7-8e71-95b72ef40b32",
        "outputId": "786887c5-ea80-42e2-d30d-39c5748c69a5"
      },
      "outputs": [
        {
          "name": "stdout",
          "output_type": "stream",
          "text": [
            "first example\n",
            "Current letter :  p\n",
            "Current letter :  y\n",
            "Current letter :  t\n",
            "Current letter :  h\n",
            "Current letter :  o\n",
            "Current letter :  n\n",
            "second example\n",
            "current fruit :  apple\n",
            "current fruit :  banana\n",
            "current fruit :  mango\n",
            "third example\n",
            "current food :  pizza \n",
            "current food :  streak\n",
            "current food :  rice\n"
          ]
        }
      ],
      "source": [
        "# fIRST EXample\n",
        "print('first example')\n",
        "for letter in 'python':\n",
        "    print('Current letter : ', letter)\n",
        "\n",
        "# Second example\n",
        "print('second example')\n",
        "fruits =['apple','banana','mango']\n",
        "for fruit in fruits:\n",
        "    print('current fruit : ', fruit)\n",
        "\n",
        "#Third example\n",
        "print('third example')\n",
        "food = ['pizza ','streak','rice']\n",
        "for index in range(len(food)):\n",
        "    print('current food : ', food[index])\n"
      ]
    },
    {
      "cell_type": "markdown",
      "id": "b13a4a75-c60c-4adf-90a3-14ae2792578f",
      "metadata": {
        "id": "b13a4a75-c60c-4adf-90a3-14ae2792578f"
      },
      "source": [
        "## While loop"
      ]
    },
    {
      "cell_type": "code",
      "execution_count": null,
      "id": "5a8f29d4-b9c3-40d7-a40d-cce7318e926f",
      "metadata": {
        "id": "5a8f29d4-b9c3-40d7-a40d-cce7318e926f",
        "outputId": "7e68499a-0307-46a4-e659-621dc9bc239a"
      },
      "outputs": [
        {
          "name": "stdout",
          "output_type": "stream",
          "text": [
            "the count is: 0\n",
            "the count is: 1\n",
            "the count is: 2\n",
            "the count is: 3\n",
            "the count is: 4\n"
          ]
        }
      ],
      "source": [
        "count=0\n",
        "while(count<5):\n",
        "    print('the count is:', count)\n",
        "    count=count+1"
      ]
    },
    {
      "cell_type": "code",
      "source": [
        "i = 1\n",
        "while i < 6:\n",
        " print(i)\n",
        " i += 1\n",
        " if(i == 3):\n",
        "  break\n",
        " else:\n",
        "  continue"
      ],
      "metadata": {
        "colab": {
          "base_uri": "https://localhost:8080/"
        },
        "id": "4sZ4V5bUhLFB",
        "outputId": "2723f731-585e-4615-d9e1-975953e4b2f6"
      },
      "id": "4sZ4V5bUhLFB",
      "execution_count": null,
      "outputs": [
        {
          "output_type": "stream",
          "name": "stdout",
          "text": [
            "1\n",
            "2\n"
          ]
        }
      ]
    },
    {
      "cell_type": "markdown",
      "id": "9ed6bab8-4dd2-4da7-b379-b53dd6058679",
      "metadata": {
        "id": "9ed6bab8-4dd2-4da7-b379-b53dd6058679"
      },
      "source": [
        "## break"
      ]
    },
    {
      "cell_type": "code",
      "execution_count": null,
      "id": "de23d2bc-9ab5-4df4-8ab7-42db807a6566",
      "metadata": {
        "id": "de23d2bc-9ab5-4df4-8ab7-42db807a6566",
        "outputId": "a8d7f846-605f-4e39-e368-ed603b93c9fd"
      },
      "outputs": [
        {
          "name": "stdout",
          "output_type": "stream",
          "text": [
            "current letter p\n",
            "current letter y\n",
            "current letter t\n"
          ]
        }
      ],
      "source": [
        "for letter in 'python':\n",
        "    if letter == 'h':\n",
        "        break\n",
        "    print('current letter',letter)\n"
      ]
    },
    {
      "cell_type": "code",
      "execution_count": null,
      "id": "8ff9cda0-8853-4143-b1c3-5d02befd1d43",
      "metadata": {
        "colab": {
          "base_uri": "https://localhost:8080/"
        },
        "id": "8ff9cda0-8853-4143-b1c3-5d02befd1d43",
        "outputId": "564afd51-cc62-43d1-fd1d-39d6f886b5bf"
      },
      "outputs": [
        {
          "output_type": "stream",
          "name": "stdout",
          "text": [
            "current letter p\n",
            "current letter y\n",
            "current letter t\n",
            "current letter o\n",
            "current letter n\n"
          ]
        }
      ],
      "source": [
        "for letter in 'python':\n",
        "    if letter == 'h':\n",
        "        continue\n",
        "    print('current letter',letter)\n"
      ]
    },
    {
      "cell_type": "markdown",
      "source": [
        "## List"
      ],
      "metadata": {
        "id": "GKobrfOjM37o"
      },
      "id": "GKobrfOjM37o"
    },
    {
      "cell_type": "code",
      "source": [
        "list = ['physics','chemistry',1997,2000, 2015]\n",
        "print(list[0])\n",
        "print(list[1:4])\n",
        "\n",
        "list[2] = 2001\n",
        "print(list)\n",
        "\n",
        "del(list[4])\n",
        "print(list)"
      ],
      "metadata": {
        "colab": {
          "base_uri": "https://localhost:8080/"
        },
        "id": "eWYql23iMhfv",
        "outputId": "f42c3cf1-ebcd-4c1d-9e44-b1ec72aa72cc"
      },
      "id": "eWYql23iMhfv",
      "execution_count": null,
      "outputs": [
        {
          "output_type": "stream",
          "name": "stdout",
          "text": [
            "physics\n",
            "['chemistry', 1997, 2000]\n",
            "['physics', 'chemistry', 2001, 2000, 2015]\n",
            "['physics', 'chemistry', 2001, 2000]\n"
          ]
        }
      ]
    },
    {
      "cell_type": "code",
      "source": [
        "person= [[\"Tajani\", 'nasseer'],['boulder'],'c0']\n",
        "print(person[0][1])\n",
        "\n",
        "first_name= person[0][0]\n",
        "city = person[1][0]\n",
        "print(first_name + \" lives in \"+ city)\n"
      ],
      "metadata": {
        "colab": {
          "base_uri": "https://localhost:8080/"
        },
        "id": "WwLvixfnNFWA",
        "outputId": "d540b652-b1d9-4048-eaeb-742585b4520b"
      },
      "id": "WwLvixfnNFWA",
      "execution_count": null,
      "outputs": [
        {
          "output_type": "stream",
          "name": "stdout",
          "text": [
            "nasseer\n",
            "Tajani lives in boulder\n"
          ]
        }
      ]
    },
    {
      "cell_type": "code",
      "source": [
        "a= [1,2,3]\n",
        "[x**2 for x in a]\n",
        "#[1,4,9]\n",
        "z= [x+1 for x in [x**2 for x in a]]\n",
        "print(z)"
      ],
      "metadata": {
        "colab": {
          "base_uri": "https://localhost:8080/"
        },
        "id": "ee94NESWOF_f",
        "outputId": "1a96b1da-3184-40f8-d7e6-aa25016c9e74"
      },
      "id": "ee94NESWOF_f",
      "execution_count": null,
      "outputs": [
        {
          "output_type": "stream",
          "name": "stdout",
          "text": [
            "[2, 5, 10]\n"
          ]
        }
      ]
    },
    {
      "cell_type": "markdown",
      "source": [
        "## Dictionary"
      ],
      "metadata": {
        "id": "lfBOG5KJO_Og"
      },
      "id": "lfBOG5KJO_Og"
    },
    {
      "cell_type": "code",
      "source": [
        "# Acess Dictionary\n",
        "dict= {'Name': 'Zara','Age':7,'Class':'First'}\n",
        "print('dict[Name]: ',dict['Name'])\n",
        "print('dict[Age]: ',dict['Age'])\n",
        "print(dict.keys())\n",
        "print(dict.values())\n",
        "print(dict.items())\n",
        "\n",
        "# Update dictionary\n",
        "dict['Age'] = 10\n",
        "dict['school'] = 'Fireside Elematry School'\n",
        "print('dict : ', dict)\n",
        "\n",
        "# Delete dictionary\n",
        "del(dict['Name']) # remove entry with key name\n",
        "print('dict : ', dict)\n",
        "dict.clear() # remove all entries in dict\n",
        "print('dict', dict)\n",
        "del(dict) # delete entire dictionary\n",
        "print('dict ',dict)\n",
        "\n"
      ],
      "metadata": {
        "colab": {
          "base_uri": "https://localhost:8080/"
        },
        "id": "sfNyaPMdNnqH",
        "outputId": "56b6961e-fa72-4290-acad-2a9dbd5dffe3"
      },
      "id": "sfNyaPMdNnqH",
      "execution_count": null,
      "outputs": [
        {
          "output_type": "stream",
          "name": "stdout",
          "text": [
            "dict[Name]:  Zara\n",
            "dict[Age]:  7\n",
            "dict_keys(['Name', 'Age', 'Class'])\n",
            "dict_values(['Zara', 7, 'First'])\n",
            "dict_items([('Name', 'Zara'), ('Age', 7), ('Class', 'First')])\n",
            "dict :  {'Name': 'Zara', 'Age': 10, 'Class': 'First', 'school': 'Fireside Elematry School'}\n",
            "dict :  {'Age': 10, 'Class': 'First', 'school': 'Fireside Elematry School'}\n",
            "dict {}\n",
            "dict  <class 'dict'>\n"
          ]
        }
      ]
    },
    {
      "cell_type": "markdown",
      "source": [
        "## Fnctions"
      ],
      "metadata": {
        "id": "Rvz1hSW-RIOm"
      },
      "id": "Rvz1hSW-RIOm"
    },
    {
      "cell_type": "code",
      "source": [],
      "metadata": {
        "id": "kmEgMieeS_do"
      },
      "id": "kmEgMieeS_do",
      "execution_count": null,
      "outputs": []
    },
    {
      "cell_type": "code",
      "source": [
        "def printinfo (arg1, *vartuple): # *Vartubles لما نيقى مش ارفين هنحتاج كام ارجيومنت\n",
        "  print('Output is: ')\n",
        "  print(arg1)\n",
        "  for var in vartuple:\n",
        "    print(var)\n",
        "  return;\n",
        "\n",
        "printinfo(10)\n",
        "printinfo(70,60,50)"
      ],
      "metadata": {
        "colab": {
          "base_uri": "https://localhost:8080/"
        },
        "id": "EK9CMuvRPR0e",
        "outputId": "7866d90d-6e1c-4631-ca55-c54e881ae41f"
      },
      "id": "EK9CMuvRPR0e",
      "execution_count": null,
      "outputs": [
        {
          "output_type": "stream",
          "name": "stdout",
          "text": [
            "Output is: \n",
            "10\n",
            "Output is: \n",
            "70\n",
            "60\n",
            "50\n"
          ]
        }
      ]
    },
    {
      "cell_type": "markdown",
      "source": [
        "## Classes"
      ],
      "metadata": {
        "id": "m-Dk0i9-Tt35"
      },
      "id": "m-Dk0i9-Tt35"
    },
    {
      "cell_type": "code",
      "source": [
        "class Box:\n",
        "  def __init__(self, x1, x2, y1, y2, label):\n",
        "    self.x1 = x1\n",
        "    self.x2 = x2\n",
        "    self.y1 = y1\n",
        "    self.y2 = y2\n",
        "\n",
        "  def calc_area(self):\n",
        "    return abs(self.x2 - self.x1) *abs(self.y2 - self.y1)\n",
        "\n",
        "b = Box(10,100,10,100, 'car')\n",
        "print(b.calc_area())"
      ],
      "metadata": {
        "colab": {
          "base_uri": "https://localhost:8080/"
        },
        "id": "Clk1idoWR2Hm",
        "outputId": "d3375f92-6216-4b73-c51e-a518a5689983"
      },
      "id": "Clk1idoWR2Hm",
      "execution_count": null,
      "outputs": [
        {
          "output_type": "stream",
          "name": "stdout",
          "text": [
            "8100\n"
          ]
        }
      ]
    },
    {
      "cell_type": "code",
      "source": [
        "class employee:\n",
        "  'Common base class for all employes'\n",
        "  empCount = 0\n",
        "\n",
        "  def __init__ (self, name, salary):\n",
        "    self.name = name\n",
        "    self.salary = salary\n",
        "    employee.empCount += 1\n",
        "\n",
        "  def displayCount(slef):\n",
        "    print('Total employee %d' % employee.empCount)\n",
        "\n",
        "  def displayEmployee(self):\n",
        "    print('Name: ', self.name , ', Salary: ', self.salary)\n",
        "\n",
        "# THIS WOULD CREATE FIRST OBJECT OF EMPLOYEE CLASS\n",
        "emp1 = employee('Zara', 2000)\n",
        "# THIS WOULD CREATE SECOND OBJECT OF EMPLOYEE CLASS\n",
        "emp2 = employee('Manni', 5000)\n",
        "emp1.displayEmployee()\n",
        "emp2.displayEmployee()\n",
        "print(f'Total employee {employee.empCount}')"
      ],
      "metadata": {
        "colab": {
          "base_uri": "https://localhost:8080/"
        },
        "id": "s24BDcsSUfs9",
        "outputId": "d600665f-8b1c-41a4-e1bf-9ac8b0c6bed5"
      },
      "id": "s24BDcsSUfs9",
      "execution_count": null,
      "outputs": [
        {
          "output_type": "stream",
          "name": "stdout",
          "text": [
            "Name:  Zara , Salary:  2000\n",
            "Name:  Manni , Salary:  5000\n",
            "Total employee 2\n"
          ]
        }
      ]
    },
    {
      "cell_type": "code",
      "source": [
        "class person :\n",
        "  def __init__(self, name):\n",
        "    self.name = name\n",
        "\n",
        "  def get_details(self):\n",
        "    \"Retrns a string contain name of the person\"\n",
        "    return self.name\n",
        "\n",
        "class student(person):\n",
        "  def __init__(self, name, branch, year):\n",
        "    person. __init__(self,name)\n",
        "    self.branch = branch\n",
        "    self.year = year\n",
        "\n",
        "  def get_details(self):\n",
        "    \"Retrns a string contain name of the person\"\n",
        "    return \"%s studies %s and is in %s year. \"% (self.name, self.branch, self.year)\n",
        "\n",
        "person1= person('Alex')\n",
        "student1 = student('Jake', 'IT', '3rd')\n",
        "print(person1.get_details())\n",
        "print(student1.get_details())"
      ],
      "metadata": {
        "colab": {
          "base_uri": "https://localhost:8080/"
        },
        "id": "1Jju7OCMXzZE",
        "outputId": "5edcce7d-a608-42a8-bcff-56c8573e5b9d"
      },
      "id": "1Jju7OCMXzZE",
      "execution_count": null,
      "outputs": [
        {
          "output_type": "stream",
          "name": "stdout",
          "text": [
            "Alex\n",
            "Jake studies IT and is in 3rd year. \n"
          ]
        }
      ]
    },
    {
      "cell_type": "markdown",
      "source": [
        "## Hands on"
      ],
      "metadata": {
        "id": "GeIoLhS7bhH7"
      },
      "id": "GeIoLhS7bhH7"
    },
    {
      "cell_type": "markdown",
      "source": [
        "**example 1**  \n",
        "Write a program to compute:\n",
        " f(n)=f(n-1)+100 when n>0\n",
        " and f(0)=0  \n",
        " with a given n input by console (n>0).  \n",
        " Example:  \n",
        " If the following n is given as input to the program:  \n",
        " 5  \n",
        " Then, the output of the program should be:  \n",
        " 500"
      ],
      "metadata": {
        "id": "9t7s0HKGhUDx"
      },
      "id": "9t7s0HKGhUDx"
    },
    {
      "cell_type": "code",
      "source": [
        "def f(n):\n",
        "  if n == 0 :\n",
        "    return 0\n",
        "  else:\n",
        "    return f(n-1) + 100\n",
        "\n",
        "n = int(input('Enter a number: '))\n",
        "print(f(n))"
      ],
      "metadata": {
        "colab": {
          "base_uri": "https://localhost:8080/"
        },
        "id": "poMAQgwAhTns",
        "outputId": "0fbe6260-e021-4ad2-f7d3-26bfcfcfbb55"
      },
      "id": "poMAQgwAhTns",
      "execution_count": null,
      "outputs": [
        {
          "output_type": "stream",
          "name": "stdout",
          "text": [
            "Enter a number: 5\n",
            "500\n"
          ]
        }
      ]
    },
    {
      "cell_type": "markdown",
      "source": [
        "**example 2**  \n",
        " Write a class named Circle constructed by a radius and\n",
        "two methods which will compute the area and the perimeter\n",
        "of a circle.    \n",
        " Example:   \n",
        "Circle Radius: 8  \n",
        " Circle Area: 200.  \n",
        " Circle Perimeter: 50.2  "
      ],
      "metadata": {
        "id": "prfI3fP3h5Qi"
      },
      "id": "prfI3fP3h5Qi"
    },
    {
      "cell_type": "code",
      "source": [
        "class circle():\n",
        "  def __init__(self, reduis):\n",
        "    self.reduis = reduis\n",
        "\n",
        "  def area(self):\n",
        "    return (self.reduis **2) * 3.14\n",
        "\n",
        "  def pariemeter(self):\n",
        "    return 2* self.reduis *3.14\n",
        "\n",
        "newcircle = circle(8)\n",
        "print(newcircle.area())\n",
        "print(newcircle.pariemeter())"
      ],
      "metadata": {
        "colab": {
          "base_uri": "https://localhost:8080/"
        },
        "id": "sxaeBve0hz_0",
        "outputId": "0d8c7c3a-0062-4e51-aee0-1afee8232588"
      },
      "id": "sxaeBve0hz_0",
      "execution_count": null,
      "outputs": [
        {
          "output_type": "stream",
          "name": "stdout",
          "text": [
            "200.96\n",
            "50.24\n"
          ]
        }
      ]
    },
    {
      "cell_type": "markdown",
      "source": [
        "**example 3**  \n",
        "Write a Python program to find the list\n",
        "in a list of lists whose sum of elements\n",
        "is the highest.  \n",
        " Sample lists: [1,2,3], [4,5,6], [10,11,12],\n",
        "[7,8,9]  \n",
        " Expected Output: [10, 11, 12]  "
      ],
      "metadata": {
        "id": "UJJPE8X_jLEi"
      },
      "id": "UJJPE8X_jLEi"
    },
    {
      "cell_type": "code",
      "source": [
        "# solution 2\n",
        "num = [[1,2,3], [4,5,6], [10,11,12], [7,8,9]]\n",
        "l =[]\n",
        "maxSum = 0\n",
        "for x in num:\n",
        "  sum=0\n",
        "  for n in x :\n",
        "    sum += n\n",
        "    if (sum > maxSum):\n",
        "      maxSum = sum\n",
        "      l = x\n",
        "print(l)\n"
      ],
      "metadata": {
        "colab": {
          "base_uri": "https://localhost:8080/"
        },
        "id": "O2zVj7-YjmcK",
        "outputId": "6b3475e8-e5cd-4e78-8348-c523e6599e82"
      },
      "id": "O2zVj7-YjmcK",
      "execution_count": null,
      "outputs": [
        {
          "output_type": "stream",
          "name": "stdout",
          "text": [
            "[10, 11, 12]\n"
          ]
        }
      ]
    },
    {
      "cell_type": "markdown",
      "source": [
        "# **--------------------------------------------------------------------------------**"
      ],
      "metadata": {
        "id": "14f6Uv5FVZH_"
      },
      "id": "14f6Uv5FVZH_"
    },
    {
      "cell_type": "markdown",
      "source": [
        "## Objects are two Types  \n",
        "Type One is \"Scaler\" : can't be subdivided  \n",
        "ex: Int , Float , Boolean , NonType  "
      ],
      "metadata": {
        "id": "W0twBjRUV9Lz"
      },
      "id": "W0twBjRUV9Lz"
    },
    {
      "cell_type": "code",
      "source": [
        "#scaler functions\n",
        "#How know input type : By using type() fun\n",
        "############################################################\n",
        "print(\"type one is : \", type(5))\n",
        "print(\"type two is : \", type(5.0))\n",
        "print(\"type three is : \", type(True))\n",
        "print(\"type four is : \", type(None))"
      ],
      "metadata": {
        "colab": {
          "base_uri": "https://localhost:8080/"
        },
        "id": "F0WwVVzGVypE",
        "outputId": "99176151-6fbd-4561-b373-c2647b6890a6"
      },
      "id": "F0WwVVzGVypE",
      "execution_count": 2,
      "outputs": [
        {
          "output_type": "stream",
          "name": "stdout",
          "text": [
            "type one is :  <class 'int'>\n",
            "type two is :  <class 'float'>\n",
            "type three is :  <class 'bool'>\n",
            "type four is :  <class 'NoneType'>\n"
          ]
        }
      ]
    },
    {
      "cell_type": "code",
      "source": [
        "# conversion\n",
        "#ex: float(), int()\n",
        "############################################################\n",
        "print(float(5))\n",
        "print(int(5.0))\n",
        "print(5+5+5.5)"
      ],
      "metadata": {
        "colab": {
          "base_uri": "https://localhost:8080/"
        },
        "id": "rZfHZN5SWkqd",
        "outputId": "17ae5c24-6cfa-4610-ef32-40824a4762c8"
      },
      "id": "rZfHZN5SWkqd",
      "execution_count": 3,
      "outputs": [
        {
          "output_type": "stream",
          "name": "stdout",
          "text": [
            "5.0\n",
            "5\n",
            "15.5\n"
          ]
        }
      ]
    },
    {
      "cell_type": "code",
      "source": [
        "# scaler operators\n",
        "# 1- add\n",
        "print(\" ex: 5+2 = \", 5+2)\n",
        "# 2- substraction\n",
        "print(\" ex: 5-2 = \", 5-2)\n",
        "# 3- multiply\n",
        "print(\" ex: 5*2 = \", 5*2)\n",
        "# 4- division\n",
        "print(\" ex: 5/2 = \", 5/2)\n",
        "# 5- integer division\n",
        "print(\" ex: 5//2 = \", 5//2)\n",
        "# 6- Reminder\n",
        "print(\" ex: 5%2 = \", 5%2)\n",
        "# 7- exponent\n",
        "print(\" ex: 2**3 = \", 2**3)\n",
        "# 8- aps\n",
        "print(\" ex: abs -5 = \", abs(-5))\n",
        "# 9- round\n",
        "print(\" ex: 3.78 = \", round(3.78))\n",
        "print(\" ex: 3.74 = \", round(3.74,2))\n",
        "print(\" ex: 3.74 = \", round(3.74,1))\n",
        "\n"
      ],
      "metadata": {
        "colab": {
          "base_uri": "https://localhost:8080/"
        },
        "id": "G9H6cnIgW6Y7",
        "outputId": "73e194a0-5be1-4fe3-caa6-8c9864016cc6"
      },
      "id": "G9H6cnIgW6Y7",
      "execution_count": 7,
      "outputs": [
        {
          "output_type": "stream",
          "name": "stdout",
          "text": [
            " ex: 5+2 =  7\n",
            " ex: 5-2 =  3\n",
            " ex: 5*2 =  10\n",
            " ex: 5/2 =  2.5\n",
            " ex: 5//2 =  2\n",
            " ex: 5%2 =  1\n",
            " ex: 2**3 =  8\n",
            " ex: abs -5 =  5\n",
            " ex: 3.78 =  4\n",
            " ex: 3.74 =  3.74\n",
            " ex: 3.74 =  3.7\n"
          ]
        }
      ]
    },
    {
      "cell_type": "code",
      "source": [
        "# Order of operation (L to R)\n",
        "# () => power => * => / => + => -\n",
        "print(3*5-1)\n",
        "print(3*(5-1))"
      ],
      "metadata": {
        "colab": {
          "base_uri": "https://localhost:8080/"
        },
        "id": "6iM4CTvlXOTl",
        "outputId": "ef2f7798-b12e-4632-d9f0-6c7b7af7ea39"
      },
      "id": "6iM4CTvlXOTl",
      "execution_count": 9,
      "outputs": [
        {
          "output_type": "stream",
          "name": "stdout",
          "text": [
            "14\n",
            "12\n"
          ]
        }
      ]
    },
    {
      "cell_type": "code",
      "source": [
        "message= \"Haya's book \"\n",
        "messagee= 'Haya\\'s book'\n",
        "print(message)\n",
        "print(messagee)\n"
      ],
      "metadata": {
        "colab": {
          "base_uri": "https://localhost:8080/"
        },
        "id": "5iSOBSAkZTmj",
        "outputId": "7cc77615-73b5-4887-f2f9-4f358a3d5302"
      },
      "id": "5iSOBSAkZTmj",
      "execution_count": 11,
      "outputs": [
        {
          "output_type": "stream",
          "name": "stdout",
          "text": [
            "Haya's book \n",
            "Haya's book\n"
          ]
        }
      ]
    },
    {
      "cell_type": "code",
      "source": [
        "message1 = \"Haya's book \"\n",
        "message2 = \"Haya's pen \"\n",
        "message3 = \"\"\"hi i'm a 3rd year student in major Ai\n",
        "I'm 20 years old.\n",
        "\"\"\"\n",
        "message4 = \"UPPER HELLO WORLD\"\n",
        "message5 = \"lower hello world\"\n",
        "print (message1)\n",
        "print (message2)\n",
        "print (message3)\n",
        "############################################\n",
        "print(message4.lower())\n",
        "print(message5.upper())\n",
        "############################################\n",
        "print(message5.count('l'))\n",
        "print (message5.count('hello'))\n",
        "print(message5.count ('bla'))\n",
        "############################################\n",
        "print(message5.find('world'))\n",
        "print(message5.find('bla'))\n",
        "############################################\n",
        "print(message1.replace('book','laptop'))"
      ],
      "metadata": {
        "colab": {
          "base_uri": "https://localhost:8080/"
        },
        "id": "3gURuUaCZhmE",
        "outputId": "ddbc6202-d899-4a0a-c6fe-9d8ab2095e72"
      },
      "id": "3gURuUaCZhmE",
      "execution_count": 20,
      "outputs": [
        {
          "output_type": "stream",
          "name": "stdout",
          "text": [
            "Haya's book \n",
            "Haya's pen \n",
            "hi i'm a 3rd year student in major Ai \n",
            "I'm 20 years old. \n",
            "\n",
            "upper hello world\n",
            "LOWER HELLO WORLD\n",
            "4\n",
            "1\n",
            "0\n",
            "12\n",
            "-1\n",
            "Haya's laptop \n"
          ]
        }
      ]
    },
    {
      "cell_type": "markdown",
      "source": [
        "-----------------------------------  \n",
        "## Objects are two Types  \n",
        "Type Two is \"Non Scaler\" : can be subdivided   \n",
        "ex: conactenations , replication, length , Indexing   "
      ],
      "metadata": {
        "id": "zhvLWL4xbveY"
      },
      "id": "zhvLWL4xbveY"
    },
    {
      "cell_type": "code",
      "source": [
        "#Non Scaler Operations\n",
        "#1- concatenations\n",
        "print(\"Concatenations:\")  #0 1 2 3 4  , -5 -4 -3 -2 -1\n",
        "first_name = 'Haya'\n",
        "last_name = 'Mohamed'\n",
        "print(first_name+last_name) # no space\n",
        "print(first_name + \" \" + last_name) # w space\n",
        "print('{} , {}. Welcome! '.format(first_name,last_name))\n",
        "print(f\"{first_name} , {last_name}. Welcome! \")"
      ],
      "metadata": {
        "colab": {
          "base_uri": "https://localhost:8080/"
        },
        "id": "uq2jCcKgaRJ0",
        "outputId": "e098a302-80e6-4191-91be-62b1bc3c9dec"
      },
      "id": "uq2jCcKgaRJ0",
      "execution_count": 22,
      "outputs": [
        {
          "output_type": "stream",
          "name": "stdout",
          "text": [
            "Concatenations:\n",
            "HayaMohamed\n",
            "Haya Mohamed\n",
            "Haya , Mohamed. Welcome! \n",
            "Haya , Mohamed. Welcome! \n"
          ]
        }
      ]
    },
    {
      "cell_type": "code",
      "source": [
        "# 2- Replication\n",
        "print(\"Replication:\")\n",
        "name = \"python \"\n",
        "print(name*3)"
      ],
      "metadata": {
        "colab": {
          "base_uri": "https://localhost:8080/"
        },
        "id": "smuM5Qwsc5xc",
        "outputId": "7dbf6cc5-7b6b-4318-b7c2-8d35cf022f63"
      },
      "id": "smuM5Qwsc5xc",
      "execution_count": 24,
      "outputs": [
        {
          "output_type": "stream",
          "name": "stdout",
          "text": [
            "Replication:\n",
            "python python python \n"
          ]
        }
      ]
    },
    {
      "cell_type": "code",
      "source": [
        "# 3- Length\n",
        "print(\"length : \")\n",
        "print(len(first_name))\n",
        "print(len(last_name))"
      ],
      "metadata": {
        "colab": {
          "base_uri": "https://localhost:8080/"
        },
        "id": "y81rbA8RdIgT",
        "outputId": "8afb51ca-6020-44e8-a9e3-ce1cb9ff2e8f"
      },
      "id": "y81rbA8RdIgT",
      "execution_count": 26,
      "outputs": [
        {
          "output_type": "stream",
          "name": "stdout",
          "text": [
            "length : \n",
            "4\n",
            "7\n"
          ]
        }
      ]
    },
    {
      "cell_type": "code",
      "source": [
        "# 4- indexing\n",
        "print(\" index: \")\n",
        "print(first_name[0])\n",
        "print(first_name[1])\n",
        "print(first_name[-2])"
      ],
      "metadata": {
        "colab": {
          "base_uri": "https://localhost:8080/"
        },
        "id": "3XhanJW1dbZ8",
        "outputId": "b7f47572-4c47-494a-e7a6-468648bac054"
      },
      "id": "3XhanJW1dbZ8",
      "execution_count": 28,
      "outputs": [
        {
          "output_type": "stream",
          "name": "stdout",
          "text": [
            " index: \n",
            "H\n",
            "a\n",
            "y\n"
          ]
        }
      ]
    },
    {
      "cell_type": "code",
      "source": [
        "# 5- slicing\n",
        "print(\"slicing: \")\n",
        "first_name = 'Haya'\n",
        "last_name = 'Mohamed'\n",
        "print(first_name[0:3])  # hay\n",
        "print(first_name[3: ]) # a\n",
        "print(first_name[:])\n",
        "print(first_name[::-1])\n",
        "print(first_name[::3])\n",
        "print(last_name[:4:2])"
      ],
      "metadata": {
        "colab": {
          "base_uri": "https://localhost:8080/"
        },
        "id": "BZMCNS8Qdk-D",
        "outputId": "5f9c92f4-c508-4935-b9cc-4a5a44bc76e6"
      },
      "id": "BZMCNS8Qdk-D",
      "execution_count": 33,
      "outputs": [
        {
          "output_type": "stream",
          "name": "stdout",
          "text": [
            "slicing: \n",
            "Hay\n",
            "a\n",
            "Haya\n",
            "ayaH\n",
            "Ha\n",
            "Mh\n"
          ]
        }
      ]
    },
    {
      "cell_type": "code",
      "source": [
        "#6- Operators\n",
        "print(\"operators: \")\n",
        "print(\"me\" in last_name)\n",
        "print(\"me\" not in first_name)\n",
        "print(\"Me\" in last_name)\n",
        "print(\"me\" in first_name)"
      ],
      "metadata": {
        "colab": {
          "base_uri": "https://localhost:8080/"
        },
        "id": "2FIYsccteGZ9",
        "outputId": "8de9c2d9-5833-4c62-9e78-efb97b3b3830"
      },
      "id": "2FIYsccteGZ9",
      "execution_count": 34,
      "outputs": [
        {
          "output_type": "stream",
          "name": "stdout",
          "text": [
            "operators: \n",
            "True\n",
            "True\n",
            "False\n",
            "False\n"
          ]
        }
      ]
    },
    {
      "cell_type": "code",
      "source": [
        "#input() function , read as string\n",
        "x = input(\"Enter a number: \")\n",
        "print(type(x))\n",
        "x = int(input(\"Enter a number: \"))\n",
        "print(type(x))"
      ],
      "metadata": {
        "colab": {
          "base_uri": "https://localhost:8080/"
        },
        "id": "0Rc9httyfMTQ",
        "outputId": "d369e90f-860d-46a1-b3bb-3ee55187e7a5"
      },
      "id": "0Rc9httyfMTQ",
      "execution_count": 35,
      "outputs": [
        {
          "output_type": "stream",
          "name": "stdout",
          "text": [
            "Enter a number: 5\n",
            "<class 'str'>\n",
            "Enter a number: 4\n",
            "<class 'int'>\n"
          ]
        }
      ]
    },
    {
      "cell_type": "code",
      "source": [
        "print(dir(name))"
      ],
      "metadata": {
        "colab": {
          "base_uri": "https://localhost:8080/"
        },
        "id": "ZR9hMO8NfZzc",
        "outputId": "6e511d99-96d5-4311-a6fd-f0db30b3ef28"
      },
      "id": "ZR9hMO8NfZzc",
      "execution_count": 36,
      "outputs": [
        {
          "output_type": "stream",
          "name": "stdout",
          "text": [
            "['__add__', '__class__', '__contains__', '__delattr__', '__dir__', '__doc__', '__eq__', '__format__', '__ge__', '__getattribute__', '__getitem__', '__getnewargs__', '__gt__', '__hash__', '__init__', '__init_subclass__', '__iter__', '__le__', '__len__', '__lt__', '__mod__', '__mul__', '__ne__', '__new__', '__reduce__', '__reduce_ex__', '__repr__', '__rmod__', '__rmul__', '__setattr__', '__sizeof__', '__str__', '__subclasshook__', 'capitalize', 'casefold', 'center', 'count', 'encode', 'endswith', 'expandtabs', 'find', 'format', 'format_map', 'index', 'isalnum', 'isalpha', 'isascii', 'isdecimal', 'isdigit', 'isidentifier', 'islower', 'isnumeric', 'isprintable', 'isspace', 'istitle', 'isupper', 'join', 'ljust', 'lower', 'lstrip', 'maketrans', 'partition', 'removeprefix', 'removesuffix', 'replace', 'rfind', 'rindex', 'rjust', 'rpartition', 'rsplit', 'rstrip', 'split', 'splitlines', 'startswith', 'strip', 'swapcase', 'title', 'translate', 'upper', 'zfill']\n"
          ]
        }
      ]
    },
    {
      "cell_type": "code",
      "source": [
        "print(help(str))"
      ],
      "metadata": {
        "id": "YlMeq7fLfiIj"
      },
      "id": "YlMeq7fLfiIj",
      "execution_count": null,
      "outputs": []
    },
    {
      "cell_type": "markdown",
      "source": [
        "-------------------------------------------------------  "
      ],
      "metadata": {
        "id": "ATQst655iRVr"
      },
      "id": "ATQst655iRVr"
    },
    {
      "cell_type": "markdown",
      "source": [
        "## Functions\n"
      ],
      "metadata": {
        "id": "DELA-e3ciURp"
      },
      "id": "DELA-e3ciURp"
    },
    {
      "cell_type": "code",
      "source": [
        "# creating a function\n",
        "def my_function():\n",
        "  print(\"Hello from a function\")\n",
        "\n",
        "# Calling a function\n",
        "my_function()"
      ],
      "metadata": {
        "colab": {
          "base_uri": "https://localhost:8080/"
        },
        "id": "RDwbJyRwflhc",
        "outputId": "29db314c-2f8c-4d2b-c7a7-72accd25e194"
      },
      "id": "RDwbJyRwflhc",
      "execution_count": 38,
      "outputs": [
        {
          "output_type": "stream",
          "name": "stdout",
          "text": [
            "Hello from a function\n"
          ]
        }
      ]
    },
    {
      "cell_type": "code",
      "source": [
        "# Arguments\n",
        "# 1- no args\n",
        "def my_function():\n",
        "  print(\"Ali\")\n",
        "\n",
        "my_function()\n",
        "\n",
        "# 2- 1 Arg\n",
        "def arg_my_fun(name):\n",
        "  print(name)\n",
        "\n",
        "arg_my_fun(\"Ahmed\")\n",
        "\n",
        "# 3- 2 Args\n",
        "def two_my_fun(fname,lname):\n",
        "  print(fname + \" \" + lname)\n",
        "\n",
        "two_my_fun(\"Haya\",\"Moahamed\")"
      ],
      "metadata": {
        "id": "uN1gPxR2ipml",
        "outputId": "258d684c-dc58-4da9-9969-849225aedc14",
        "colab": {
          "base_uri": "https://localhost:8080/"
        }
      },
      "id": "uN1gPxR2ipml",
      "execution_count": 40,
      "outputs": [
        {
          "output_type": "stream",
          "name": "stdout",
          "text": [
            "Ali\n",
            "Ahmed\n",
            "Haya Moahamed\n"
          ]
        }
      ]
    },
    {
      "cell_type": "code",
      "source": [
        "# Default parameter value\n",
        "def country_name(country= \"Giza\"):\n",
        "  print(\"i'm from \"+ country)\n",
        "\n",
        "country_name()\n",
        "country_name(\"Cairo\")\n"
      ],
      "metadata": {
        "id": "-6NliBAUjflQ",
        "outputId": "1b057e92-55b6-4104-c5c5-8b87386ecb87",
        "colab": {
          "base_uri": "https://localhost:8080/"
        }
      },
      "id": "-6NliBAUjflQ",
      "execution_count": 42,
      "outputs": [
        {
          "output_type": "stream",
          "name": "stdout",
          "text": [
            "i'm from Giza\n",
            "i'm from Cairo\n"
          ]
        }
      ]
    },
    {
      "cell_type": "code",
      "source": [
        "# Passing a list as an argument\n",
        "def fun(food):\n",
        "  for x in food:\n",
        "    print(x)\n",
        "frits = [\"apple\",\"banana\",\"cherry\"]\n",
        "fun(frits)"
      ],
      "metadata": {
        "id": "c4EK5d_qkl3M",
        "outputId": "1d04d4b3-c829-4fae-8437-274a7ddaf58b",
        "colab": {
          "base_uri": "https://localhost:8080/"
        }
      },
      "id": "c4EK5d_qkl3M",
      "execution_count": 43,
      "outputs": [
        {
          "output_type": "stream",
          "name": "stdout",
          "text": [
            "apple\n",
            "banana\n",
            "cherry\n"
          ]
        }
      ]
    },
    {
      "cell_type": "code",
      "source": [
        "# Return value\n",
        "def funn(c):\n",
        "  return 5*c\n",
        "\n",
        "print(funn(3))\n",
        "print(funn(5))\n",
        "print(funn(9))"
      ],
      "metadata": {
        "id": "pJ9DjE8Tk_cN",
        "outputId": "bfa1e3d9-60a9-4916-97f1-e8bf3e971f9a",
        "colab": {
          "base_uri": "https://localhost:8080/"
        }
      },
      "id": "pJ9DjE8Tk_cN",
      "execution_count": 44,
      "outputs": [
        {
          "output_type": "stream",
          "name": "stdout",
          "text": [
            "15\n",
            "25\n",
            "45\n"
          ]
        }
      ]
    },
    {
      "cell_type": "markdown",
      "source": [
        "## Recursion"
      ],
      "metadata": {
        "id": "oo-uwDbKnbsf"
      },
      "id": "oo-uwDbKnbsf"
    },
    {
      "cell_type": "code",
      "source": [
        "# -------------------------------------------------------------------\n",
        "# -- To undersand Recursion, you Need to first understand reursion --\n",
        "# -------------------------------------------------------------------\n",
        "# Test word = [WWWoooorrrldd]"
      ],
      "metadata": {
        "id": "JSeR40CUlLLz"
      },
      "id": "JSeR40CUlLLz",
      "execution_count": 45,
      "outputs": []
    },
    {
      "cell_type": "code",
      "source": [
        "def clean_word(word):\n",
        "  if len(word) == 1:\n",
        "    return word\n",
        "\n",
        "  if word[0] == word[1] : # WWWoooorrrldd\n",
        "    return clean_word(word[1:]) # WWoooorrrldd     # Woooorrrldd\n",
        "#oooorrrldd  -> ooorrrldd -> oorrrldd -> orrrldd\n",
        "# rrrldd -|> rrldd ->rldd\n",
        "# ldd\n",
        "# dd ->d\n",
        "  return word[0] + clean_word(word[1:]) # [W]oooorrrldd -> [W , o]rrrldd -> [w,o,r]ldd ->[w,o,r,l]dd - >[w,o,r,l,d]\n",
        "  # stash [ W , o , r , l , d ]\n",
        "\n",
        "clean_word('WWWoooorrrldd') # Woooorrrldd"
      ],
      "metadata": {
        "id": "qmAOlCzknhIr",
        "outputId": "46f9fd3f-9370-40b9-9f5d-180ebfcd6ed1",
        "colab": {
          "base_uri": "https://localhost:8080/",
          "height": 36
        }
      },
      "id": "qmAOlCzknhIr",
      "execution_count": 48,
      "outputs": [
        {
          "output_type": "execute_result",
          "data": {
            "text/plain": [
              "'World'"
            ],
            "application/vnd.google.colaboratory.intrinsic+json": {
              "type": "string"
            }
          },
          "metadata": {},
          "execution_count": 48
        }
      ]
    },
    {
      "cell_type": "code",
      "source": [
        "\n"
      ],
      "metadata": {
        "id": "c3S8zGvdoquc",
        "outputId": "257a970a-b9d6-4c92-9f8a-51119e94b0ec",
        "colab": {
          "base_uri": "https://localhost:8080/",
          "height": 36
        }
      },
      "id": "c3S8zGvdoquc",
      "execution_count": 52,
      "outputs": [
        {
          "output_type": "execute_result",
          "data": {
            "text/plain": [
              "'ali sayedkhaled'"
            ],
            "application/vnd.google.colaboratory.intrinsic+json": {
              "type": "string"
            }
          },
          "metadata": {},
          "execution_count": 52
        }
      ]
    },
    {
      "cell_type": "code",
      "source": [],
      "metadata": {
        "id": "Io96kxCdDnKp"
      },
      "id": "Io96kxCdDnKp",
      "execution_count": null,
      "outputs": []
    }
  ],
  "metadata": {
    "kernelspec": {
      "display_name": "Python 3 (ipykernel)",
      "language": "python",
      "name": "python3"
    },
    "language_info": {
      "codemirror_mode": {
        "name": "ipython",
        "version": 3
      },
      "file_extension": ".py",
      "mimetype": "text/x-python",
      "name": "python",
      "nbconvert_exporter": "python",
      "pygments_lexer": "ipython3",
      "version": "3.11.7"
    },
    "colab": {
      "provenance": [],
      "include_colab_link": true
    }
  },
  "nbformat": 4,
  "nbformat_minor": 5
}