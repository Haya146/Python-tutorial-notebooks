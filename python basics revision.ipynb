{
  "cells": [
    {
      "cell_type": "markdown",
      "metadata": {
        "id": "view-in-github",
        "colab_type": "text"
      },
      "source": [
        "<a href=\"https://colab.research.google.com/github/Haya146/Python-tutorial-notebooks/blob/main/python%20basics%20revision.ipynb\" target=\"_parent\"><img src=\"https://colab.research.google.com/assets/colab-badge.svg\" alt=\"Open In Colab\"/></a>"
      ]
    },
    {
      "cell_type": "markdown",
      "source": [
        "## basics"
      ],
      "metadata": {
        "id": "esYa3D5jhNXP"
      },
      "id": "esYa3D5jhNXP"
    },
    {
      "cell_type": "code",
      "source": [
        "# Collections are assigned by reference\n",
        "a = [1,2,3] # a now references to the list   [1,2,3]\n",
        "b = a # b now references to what a references.\n",
        "a.append(4)\n",
        "print(b) # prints [1,2,3,4]"
      ],
      "metadata": {
        "id": "l2gbi24Ig1yM",
        "outputId": "1583a8cd-c2b0-463c-8ac5-f9e92cef1241",
        "colab": {
          "base_uri": "https://localhost:8080/"
        }
      },
      "id": "l2gbi24Ig1yM",
      "execution_count": null,
      "outputs": [
        {
          "output_type": "stream",
          "name": "stdout",
          "text": [
            "[1, 2, 3, 4]\n"
          ]
        }
      ]
    },
    {
      "cell_type": "code",
      "source": [
        "x = 3\n",
        "y = x\n",
        "y = 4\n",
        "print (x) # prints 3, as X is not affected"
      ],
      "metadata": {
        "colab": {
          "base_uri": "https://localhost:8080/"
        },
        "id": "Yme18qekhGg0",
        "outputId": "3dd4590e-f70e-4f50-a4f2-df187e36dce6"
      },
      "id": "Yme18qekhGg0",
      "execution_count": 39,
      "outputs": [
        {
          "output_type": "stream",
          "name": "stdout",
          "text": [
            "3\n"
          ]
        }
      ]
    },
    {
      "cell_type": "code",
      "source": [
        "thisset = {\"Sally\", \"Sama\", \"Sara\"}\n",
        "print(thisset)\n",
        "print(\"Sally\" in thisset) #Prints Sally if it exists\n",
        " #Once a set is created, you cannot change its items, but you can add new items.\n",
        " #To add more than one item to a set use the update() method.\n",
        "thisset.add(\"Salma\")"
      ],
      "metadata": {
        "colab": {
          "base_uri": "https://localhost:8080/"
        },
        "id": "ENRFE6wwfHxq",
        "outputId": "16cc43e7-8ecb-4216-c74b-d56ca1ce785d"
      },
      "id": "ENRFE6wwfHxq",
      "execution_count": null,
      "outputs": [
        {
          "output_type": "stream",
          "name": "stdout",
          "text": [
            "{'Sama', 'Sara', 'Sally'}\n",
            "True\n"
          ]
        }
      ]
    },
    {
      "cell_type": "code",
      "execution_count": null,
      "id": "4a708566-0880-44c4-b6d8-3d3c02b9e881",
      "metadata": {
        "id": "4a708566-0880-44c4-b6d8-3d3c02b9e881",
        "outputId": "cb7672ad-549a-439f-a061-e1c1567b6195"
      },
      "outputs": [
        {
          "name": "stdin",
          "output_type": "stream",
          "text": [
            "please enter an integer:  1\n"
          ]
        },
        {
          "name": "stdout",
          "output_type": "stream",
          "text": [
            "Single\n"
          ]
        }
      ],
      "source": [
        "x= int(input(\"please enter an integer: \"))\n",
        "if x<0:\n",
        "    print('Negative changed to zero')\n",
        "elif x==0:\n",
        "    print('Zero')\n",
        "elif x==1:\n",
        "    print('Single')\n",
        "else:\n",
        "    print('More')"
      ]
    },
    {
      "cell_type": "code",
      "execution_count": null,
      "id": "1636fd66-e431-42b8-b226-04cb0bee6374",
      "metadata": {
        "id": "1636fd66-e431-42b8-b226-04cb0bee6374",
        "outputId": "88024302-fcb2-40a8-9450-df774fa3a6c9"
      },
      "outputs": [
        {
          "name": "stdout",
          "output_type": "stream",
          "text": [
            "smaller\n",
            "smaller\n"
          ]
        }
      ],
      "source": [
        "a,b = 4,5\n",
        "if a<b :\n",
        "    x= 'smaller'\n",
        "else:\n",
        "    x='bigger'\n",
        "\n",
        "print(x)\n",
        "\n",
        "x= 'smaller' if a<b else 'bigger'\n",
        "print(x)"
      ]
    },
    {
      "cell_type": "markdown",
      "id": "9feb89d1-ce1b-4e0d-a63c-d038ff148688",
      "metadata": {
        "id": "9feb89d1-ce1b-4e0d-a63c-d038ff148688"
      },
      "source": [
        "## For loop"
      ]
    },
    {
      "cell_type": "code",
      "execution_count": null,
      "id": "97b0b8ed-24a6-46e7-8e71-95b72ef40b32",
      "metadata": {
        "id": "97b0b8ed-24a6-46e7-8e71-95b72ef40b32",
        "outputId": "786887c5-ea80-42e2-d30d-39c5748c69a5"
      },
      "outputs": [
        {
          "name": "stdout",
          "output_type": "stream",
          "text": [
            "first example\n",
            "Current letter :  p\n",
            "Current letter :  y\n",
            "Current letter :  t\n",
            "Current letter :  h\n",
            "Current letter :  o\n",
            "Current letter :  n\n",
            "second example\n",
            "current fruit :  apple\n",
            "current fruit :  banana\n",
            "current fruit :  mango\n",
            "third example\n",
            "current food :  pizza \n",
            "current food :  streak\n",
            "current food :  rice\n"
          ]
        }
      ],
      "source": [
        "# fIRST EXample\n",
        "print('first example')\n",
        "for letter in 'python':\n",
        "    print('Current letter : ', letter)\n",
        "\n",
        "# Second example\n",
        "print('second example')\n",
        "fruits =['apple','banana','mango']\n",
        "for fruit in fruits:\n",
        "    print('current fruit : ', fruit)\n",
        "\n",
        "#Third example\n",
        "print('third example')\n",
        "food = ['pizza ','streak','rice']\n",
        "for index in range(len(food)):\n",
        "    print('current food : ', food[index])\n"
      ]
    },
    {
      "cell_type": "markdown",
      "id": "b13a4a75-c60c-4adf-90a3-14ae2792578f",
      "metadata": {
        "id": "b13a4a75-c60c-4adf-90a3-14ae2792578f"
      },
      "source": [
        "## While loop"
      ]
    },
    {
      "cell_type": "code",
      "execution_count": null,
      "id": "5a8f29d4-b9c3-40d7-a40d-cce7318e926f",
      "metadata": {
        "id": "5a8f29d4-b9c3-40d7-a40d-cce7318e926f",
        "outputId": "7e68499a-0307-46a4-e659-621dc9bc239a"
      },
      "outputs": [
        {
          "name": "stdout",
          "output_type": "stream",
          "text": [
            "the count is: 0\n",
            "the count is: 1\n",
            "the count is: 2\n",
            "the count is: 3\n",
            "the count is: 4\n"
          ]
        }
      ],
      "source": [
        "count=0\n",
        "while(count<5):\n",
        "    print('the count is:', count)\n",
        "    count=count+1"
      ]
    },
    {
      "cell_type": "code",
      "source": [
        "i = 1\n",
        "while i < 6:\n",
        " print(i)\n",
        " i += 1\n",
        " if(i == 3):\n",
        "  break\n",
        " else:\n",
        "  continue"
      ],
      "metadata": {
        "colab": {
          "base_uri": "https://localhost:8080/"
        },
        "id": "4sZ4V5bUhLFB",
        "outputId": "2723f731-585e-4615-d9e1-975953e4b2f6"
      },
      "id": "4sZ4V5bUhLFB",
      "execution_count": 40,
      "outputs": [
        {
          "output_type": "stream",
          "name": "stdout",
          "text": [
            "1\n",
            "2\n"
          ]
        }
      ]
    },
    {
      "cell_type": "markdown",
      "id": "9ed6bab8-4dd2-4da7-b379-b53dd6058679",
      "metadata": {
        "id": "9ed6bab8-4dd2-4da7-b379-b53dd6058679"
      },
      "source": [
        "## break"
      ]
    },
    {
      "cell_type": "code",
      "execution_count": null,
      "id": "de23d2bc-9ab5-4df4-8ab7-42db807a6566",
      "metadata": {
        "id": "de23d2bc-9ab5-4df4-8ab7-42db807a6566",
        "outputId": "a8d7f846-605f-4e39-e368-ed603b93c9fd"
      },
      "outputs": [
        {
          "name": "stdout",
          "output_type": "stream",
          "text": [
            "current letter p\n",
            "current letter y\n",
            "current letter t\n"
          ]
        }
      ],
      "source": [
        "for letter in 'python':\n",
        "    if letter == 'h':\n",
        "        break\n",
        "    print('current letter',letter)\n"
      ]
    },
    {
      "cell_type": "code",
      "execution_count": null,
      "id": "8ff9cda0-8853-4143-b1c3-5d02befd1d43",
      "metadata": {
        "colab": {
          "base_uri": "https://localhost:8080/"
        },
        "id": "8ff9cda0-8853-4143-b1c3-5d02befd1d43",
        "outputId": "564afd51-cc62-43d1-fd1d-39d6f886b5bf"
      },
      "outputs": [
        {
          "output_type": "stream",
          "name": "stdout",
          "text": [
            "current letter p\n",
            "current letter y\n",
            "current letter t\n",
            "current letter o\n",
            "current letter n\n"
          ]
        }
      ],
      "source": [
        "for letter in 'python':\n",
        "    if letter == 'h':\n",
        "        continue\n",
        "    print('current letter',letter)\n"
      ]
    },
    {
      "cell_type": "markdown",
      "source": [
        "## List"
      ],
      "metadata": {
        "id": "GKobrfOjM37o"
      },
      "id": "GKobrfOjM37o"
    },
    {
      "cell_type": "code",
      "source": [
        "list = ['physics','chemistry',1997,2000, 2015]\n",
        "print(list[0])\n",
        "print(list[1:4])\n",
        "\n",
        "list[2] = 2001\n",
        "print(list)\n",
        "\n",
        "del(list[4])\n",
        "print(list)"
      ],
      "metadata": {
        "colab": {
          "base_uri": "https://localhost:8080/"
        },
        "id": "eWYql23iMhfv",
        "outputId": "f42c3cf1-ebcd-4c1d-9e44-b1ec72aa72cc"
      },
      "id": "eWYql23iMhfv",
      "execution_count": null,
      "outputs": [
        {
          "output_type": "stream",
          "name": "stdout",
          "text": [
            "physics\n",
            "['chemistry', 1997, 2000]\n",
            "['physics', 'chemistry', 2001, 2000, 2015]\n",
            "['physics', 'chemistry', 2001, 2000]\n"
          ]
        }
      ]
    },
    {
      "cell_type": "code",
      "source": [
        "person= [[\"Tajani\", 'nasseer'],['boulder'],'c0']\n",
        "print(person[0][1])\n",
        "\n",
        "first_name= person[0][0]\n",
        "city = person[1][0]\n",
        "print(first_name + \" lives in \"+ city)\n"
      ],
      "metadata": {
        "colab": {
          "base_uri": "https://localhost:8080/"
        },
        "id": "WwLvixfnNFWA",
        "outputId": "d540b652-b1d9-4048-eaeb-742585b4520b"
      },
      "id": "WwLvixfnNFWA",
      "execution_count": null,
      "outputs": [
        {
          "output_type": "stream",
          "name": "stdout",
          "text": [
            "nasseer\n",
            "Tajani lives in boulder\n"
          ]
        }
      ]
    },
    {
      "cell_type": "code",
      "source": [
        "a= [1,2,3]\n",
        "[x**2 for x in a]\n",
        "#[1,4,9]\n",
        "z= [x+1 for x in [x**2 for x in a]]\n",
        "print(z)"
      ],
      "metadata": {
        "colab": {
          "base_uri": "https://localhost:8080/"
        },
        "id": "ee94NESWOF_f",
        "outputId": "1a96b1da-3184-40f8-d7e6-aa25016c9e74"
      },
      "id": "ee94NESWOF_f",
      "execution_count": null,
      "outputs": [
        {
          "output_type": "stream",
          "name": "stdout",
          "text": [
            "[2, 5, 10]\n"
          ]
        }
      ]
    },
    {
      "cell_type": "markdown",
      "source": [
        "## Dictionary"
      ],
      "metadata": {
        "id": "lfBOG5KJO_Og"
      },
      "id": "lfBOG5KJO_Og"
    },
    {
      "cell_type": "code",
      "source": [
        "# Acess Dictionary\n",
        "dict= {'Name': 'Zara','Age':7,'Class':'First'}\n",
        "print('dict[Name]: ',dict['Name'])\n",
        "print('dict[Age]: ',dict['Age'])\n",
        "print(dict.keys())\n",
        "print(dict.values())\n",
        "print(dict.items())\n",
        "\n",
        "# Update dictionary\n",
        "dict['Age'] = 10\n",
        "dict['school'] = 'Fireside Elematry School'\n",
        "print('dict : ', dict)\n",
        "\n",
        "# Delete dictionary\n",
        "del(dict['Name']) # remove entry with key name\n",
        "print('dict : ', dict)\n",
        "dict.clear() # remove all entries in dict\n",
        "print('dict', dict)\n",
        "del(dict) # delete entire dictionary\n",
        "print('dict ',dict)\n",
        "\n"
      ],
      "metadata": {
        "colab": {
          "base_uri": "https://localhost:8080/"
        },
        "id": "sfNyaPMdNnqH",
        "outputId": "56b6961e-fa72-4290-acad-2a9dbd5dffe3"
      },
      "id": "sfNyaPMdNnqH",
      "execution_count": null,
      "outputs": [
        {
          "output_type": "stream",
          "name": "stdout",
          "text": [
            "dict[Name]:  Zara\n",
            "dict[Age]:  7\n",
            "dict_keys(['Name', 'Age', 'Class'])\n",
            "dict_values(['Zara', 7, 'First'])\n",
            "dict_items([('Name', 'Zara'), ('Age', 7), ('Class', 'First')])\n",
            "dict :  {'Name': 'Zara', 'Age': 10, 'Class': 'First', 'school': 'Fireside Elematry School'}\n",
            "dict :  {'Age': 10, 'Class': 'First', 'school': 'Fireside Elematry School'}\n",
            "dict {}\n",
            "dict  <class 'dict'>\n"
          ]
        }
      ]
    },
    {
      "cell_type": "markdown",
      "source": [
        "## Fnctions"
      ],
      "metadata": {
        "id": "Rvz1hSW-RIOm"
      },
      "id": "Rvz1hSW-RIOm"
    },
    {
      "cell_type": "code",
      "source": [],
      "metadata": {
        "id": "kmEgMieeS_do"
      },
      "id": "kmEgMieeS_do",
      "execution_count": null,
      "outputs": []
    },
    {
      "cell_type": "code",
      "source": [
        "def printinfo (arg1, *vartuple): # *Vartubles لما نيقى مش ارفين هنحتاج كام ارجيومنت\n",
        "  print('Output is: ')\n",
        "  print(arg1)\n",
        "  for var in vartuple:\n",
        "    print(var)\n",
        "  return;\n",
        "\n",
        "printinfo(10)\n",
        "printinfo(70,60,50)"
      ],
      "metadata": {
        "colab": {
          "base_uri": "https://localhost:8080/"
        },
        "id": "EK9CMuvRPR0e",
        "outputId": "7866d90d-6e1c-4631-ca55-c54e881ae41f"
      },
      "id": "EK9CMuvRPR0e",
      "execution_count": null,
      "outputs": [
        {
          "output_type": "stream",
          "name": "stdout",
          "text": [
            "Output is: \n",
            "10\n",
            "Output is: \n",
            "70\n",
            "60\n",
            "50\n"
          ]
        }
      ]
    },
    {
      "cell_type": "markdown",
      "source": [
        "## Classes"
      ],
      "metadata": {
        "id": "m-Dk0i9-Tt35"
      },
      "id": "m-Dk0i9-Tt35"
    },
    {
      "cell_type": "code",
      "source": [
        "class Box:\n",
        "  def __init__(self, x1, x2, y1, y2, label):\n",
        "    self.x1 = x1\n",
        "    self.x2 = x2\n",
        "    self.y1 = y1\n",
        "    self.y2 = y2\n",
        "\n",
        "  def calc_area(self):\n",
        "    return abs(self.x2 - self.x1) *abs(self.y2 - self.y1)\n",
        "\n",
        "b = Box(10,100,10,100, 'car')\n",
        "print(b.calc_area())"
      ],
      "metadata": {
        "colab": {
          "base_uri": "https://localhost:8080/"
        },
        "id": "Clk1idoWR2Hm",
        "outputId": "d3375f92-6216-4b73-c51e-a518a5689983"
      },
      "id": "Clk1idoWR2Hm",
      "execution_count": null,
      "outputs": [
        {
          "output_type": "stream",
          "name": "stdout",
          "text": [
            "8100\n"
          ]
        }
      ]
    },
    {
      "cell_type": "code",
      "source": [
        "class employee:\n",
        "  'Common base class for all employes'\n",
        "  empCount = 0\n",
        "\n",
        "  def __init__ (self, name, salary):\n",
        "    self.name = name\n",
        "    self.salary = salary\n",
        "    employee.empCount += 1\n",
        "\n",
        "  def displayCount(slef):\n",
        "    print('Total employee %d' % employee.empCount)\n",
        "\n",
        "  def displayEmployee(self):\n",
        "    print('Name: ', self.name , ', Salary: ', self.salary)\n",
        "\n",
        "# THIS WOULD CREATE FIRST OBJECT OF EMPLOYEE CLASS\n",
        "emp1 = employee('Zara', 2000)\n",
        "# THIS WOULD CREATE SECOND OBJECT OF EMPLOYEE CLASS\n",
        "emp2 = employee('Manni', 5000)\n",
        "emp1.displayEmployee()\n",
        "emp2.displayEmployee()\n",
        "print(f'Total employee {employee.empCount}')"
      ],
      "metadata": {
        "colab": {
          "base_uri": "https://localhost:8080/"
        },
        "id": "s24BDcsSUfs9",
        "outputId": "d600665f-8b1c-41a4-e1bf-9ac8b0c6bed5"
      },
      "id": "s24BDcsSUfs9",
      "execution_count": null,
      "outputs": [
        {
          "output_type": "stream",
          "name": "stdout",
          "text": [
            "Name:  Zara , Salary:  2000\n",
            "Name:  Manni , Salary:  5000\n",
            "Total employee 2\n"
          ]
        }
      ]
    },
    {
      "cell_type": "code",
      "source": [
        "class person :\n",
        "  def __init__(self, name):\n",
        "    self.name = name\n",
        "\n",
        "  def get_details(self):\n",
        "    \"Retrns a string contain name of the person\"\n",
        "    return self.name\n",
        "\n",
        "class student(person):\n",
        "  def __init__(self, name, branch, year):\n",
        "    person. __init__(self,name)\n",
        "    self.branch = branch\n",
        "    self.year = year\n",
        "\n",
        "  def get_details(self):\n",
        "    \"Retrns a string contain name of the person\"\n",
        "    return \"%s studies %s and is in %s year. \"% (self.name, self.branch, self.year)\n",
        "\n",
        "person1= person('Alex')\n",
        "student1 = student('Jake', 'IT', '3rd')\n",
        "print(person1.get_details())\n",
        "print(student1.get_details())"
      ],
      "metadata": {
        "colab": {
          "base_uri": "https://localhost:8080/"
        },
        "id": "1Jju7OCMXzZE",
        "outputId": "5edcce7d-a608-42a8-bcff-56c8573e5b9d"
      },
      "id": "1Jju7OCMXzZE",
      "execution_count": null,
      "outputs": [
        {
          "output_type": "stream",
          "name": "stdout",
          "text": [
            "Alex\n",
            "Jake studies IT and is in 3rd year. \n"
          ]
        }
      ]
    },
    {
      "cell_type": "markdown",
      "source": [
        "## Hands on"
      ],
      "metadata": {
        "id": "GeIoLhS7bhH7"
      },
      "id": "GeIoLhS7bhH7"
    },
    {
      "cell_type": "markdown",
      "source": [
        "**example 1**  \n",
        "Write a program to compute:\n",
        " f(n)=f(n-1)+100 when n>0\n",
        " and f(0)=0  \n",
        " with a given n input by console (n>0).  \n",
        " Example:  \n",
        " If the following n is given as input to the program:  \n",
        " 5  \n",
        " Then, the output of the program should be:  \n",
        " 500"
      ],
      "metadata": {
        "id": "9t7s0HKGhUDx"
      },
      "id": "9t7s0HKGhUDx"
    },
    {
      "cell_type": "code",
      "source": [
        "def f(n):\n",
        "  if n == 0 :\n",
        "    return 0\n",
        "  else:\n",
        "    return f(n-1) + 100\n",
        "\n",
        "n = int(input('Enter a number: '))\n",
        "print(f(n))"
      ],
      "metadata": {
        "colab": {
          "base_uri": "https://localhost:8080/"
        },
        "id": "poMAQgwAhTns",
        "outputId": "0fbe6260-e021-4ad2-f7d3-26bfcfcfbb55"
      },
      "id": "poMAQgwAhTns",
      "execution_count": 41,
      "outputs": [
        {
          "output_type": "stream",
          "name": "stdout",
          "text": [
            "Enter a number: 5\n",
            "500\n"
          ]
        }
      ]
    },
    {
      "cell_type": "markdown",
      "source": [
        "**example 2**  \n",
        " Write a class named Circle constructed by a radius and\n",
        "two methods which will compute the area and the perimeter\n",
        "of a circle.    \n",
        " Example:   \n",
        "Circle Radius: 8  \n",
        " Circle Area: 200.  \n",
        " Circle Perimeter: 50.2  "
      ],
      "metadata": {
        "id": "prfI3fP3h5Qi"
      },
      "id": "prfI3fP3h5Qi"
    },
    {
      "cell_type": "code",
      "source": [
        "class circle():\n",
        "  def __init__(self, reduis):\n",
        "    self.reduis = reduis\n",
        "\n",
        "  def area(self):\n",
        "    return (self.reduis **2) * 3.14\n",
        "\n",
        "  def pariemeter(self):\n",
        "    return 2* self.reduis *3.14\n",
        "\n",
        "newcircle = circle(8)\n",
        "print(newcircle.area())\n",
        "print(newcircle.pariemeter())"
      ],
      "metadata": {
        "colab": {
          "base_uri": "https://localhost:8080/"
        },
        "id": "sxaeBve0hz_0",
        "outputId": "0d8c7c3a-0062-4e51-aee0-1afee8232588"
      },
      "id": "sxaeBve0hz_0",
      "execution_count": 45,
      "outputs": [
        {
          "output_type": "stream",
          "name": "stdout",
          "text": [
            "200.96\n",
            "50.24\n"
          ]
        }
      ]
    },
    {
      "cell_type": "markdown",
      "source": [
        "**example 3**  \n",
        "Write a Python program to find the list\n",
        "in a list of lists whose sum of elements\n",
        "is the highest.  \n",
        " Sample lists: [1,2,3], [4,5,6], [10,11,12],\n",
        "[7,8,9]  \n",
        " Expected Output: [10, 11, 12]  "
      ],
      "metadata": {
        "id": "UJJPE8X_jLEi"
      },
      "id": "UJJPE8X_jLEi"
    },
    {
      "cell_type": "code",
      "source": [
        "# solution 2\n",
        "num = [[1,2,3], [4,5,6], [10,11,12], [7,8,9]]\n",
        "l =[]\n",
        "maxSum = 0\n",
        "for x in num:\n",
        "  sum=0\n",
        "  for n in x :\n",
        "    sum += n\n",
        "    if (sum > maxSum):\n",
        "      maxSum = sum\n",
        "      l = x\n",
        "print(l)\n"
      ],
      "metadata": {
        "colab": {
          "base_uri": "https://localhost:8080/"
        },
        "id": "O2zVj7-YjmcK",
        "outputId": "6b3475e8-e5cd-4e78-8348-c523e6599e82"
      },
      "id": "O2zVj7-YjmcK",
      "execution_count": 66,
      "outputs": [
        {
          "output_type": "stream",
          "name": "stdout",
          "text": [
            "[10, 11, 12]\n"
          ]
        }
      ]
    },
    {
      "cell_type": "code",
      "source": [],
      "metadata": {
        "id": "A8Y_aohikxLT"
      },
      "id": "A8Y_aohikxLT",
      "execution_count": null,
      "outputs": []
    }
  ],
  "metadata": {
    "kernelspec": {
      "display_name": "Python 3 (ipykernel)",
      "language": "python",
      "name": "python3"
    },
    "language_info": {
      "codemirror_mode": {
        "name": "ipython",
        "version": 3
      },
      "file_extension": ".py",
      "mimetype": "text/x-python",
      "name": "python",
      "nbconvert_exporter": "python",
      "pygments_lexer": "ipython3",
      "version": "3.11.7"
    },
    "colab": {
      "provenance": [],
      "include_colab_link": true
    }
  },
  "nbformat": 4,
  "nbformat_minor": 5
}